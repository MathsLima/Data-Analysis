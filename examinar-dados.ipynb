{
 "cells": [
  {
   "cell_type": "markdown",
   "metadata": {},
   "source": [
    "EXAMINAR DADOS"
   ]
  },
  {
   "cell_type": "code",
   "execution_count": 17,
   "metadata": {},
   "outputs": [
    {
     "data": {
      "text/html": [
       "<div>\n",
       "<style scoped>\n",
       "    .dataframe tbody tr th:only-of-type {\n",
       "        vertical-align: middle;\n",
       "    }\n",
       "\n",
       "    .dataframe tbody tr th {\n",
       "        vertical-align: top;\n",
       "    }\n",
       "\n",
       "    .dataframe thead th {\n",
       "        text-align: right;\n",
       "    }\n",
       "</style>\n",
       "<table border=\"1\" class=\"dataframe\">\n",
       "  <thead>\n",
       "    <tr style=\"text-align: right;\">\n",
       "      <th></th>\n",
       "      <th>Nome</th>\n",
       "      <th>Horasestudos</th>\n",
       "      <th>Notas</th>\n",
       "    </tr>\n",
       "  </thead>\n",
       "  <tbody>\n",
       "    <tr>\n",
       "      <th>0</th>\n",
       "      <td>Dan</td>\n",
       "      <td>10.00</td>\n",
       "      <td>50.0</td>\n",
       "    </tr>\n",
       "    <tr>\n",
       "      <th>1</th>\n",
       "      <td>Joann</td>\n",
       "      <td>11.50</td>\n",
       "      <td>50.0</td>\n",
       "    </tr>\n",
       "    <tr>\n",
       "      <th>2</th>\n",
       "      <td>Pedro</td>\n",
       "      <td>9.00</td>\n",
       "      <td>47.0</td>\n",
       "    </tr>\n",
       "    <tr>\n",
       "      <th>3</th>\n",
       "      <td>Rosie</td>\n",
       "      <td>16.00</td>\n",
       "      <td>97.0</td>\n",
       "    </tr>\n",
       "    <tr>\n",
       "      <th>4</th>\n",
       "      <td>Ethan</td>\n",
       "      <td>9.25</td>\n",
       "      <td>49.0</td>\n",
       "    </tr>\n",
       "    <tr>\n",
       "      <th>5</th>\n",
       "      <td>Vicky</td>\n",
       "      <td>1.00</td>\n",
       "      <td>3.0</td>\n",
       "    </tr>\n",
       "    <tr>\n",
       "      <th>6</th>\n",
       "      <td>Frederic</td>\n",
       "      <td>11.50</td>\n",
       "      <td>53.0</td>\n",
       "    </tr>\n",
       "    <tr>\n",
       "      <th>7</th>\n",
       "      <td>Jimmie</td>\n",
       "      <td>9.00</td>\n",
       "      <td>42.0</td>\n",
       "    </tr>\n",
       "    <tr>\n",
       "      <th>8</th>\n",
       "      <td>Rhonda</td>\n",
       "      <td>8.50</td>\n",
       "      <td>26.0</td>\n",
       "    </tr>\n",
       "    <tr>\n",
       "      <th>9</th>\n",
       "      <td>Giovanni</td>\n",
       "      <td>14.50</td>\n",
       "      <td>74.0</td>\n",
       "    </tr>\n",
       "    <tr>\n",
       "      <th>10</th>\n",
       "      <td>Francesca</td>\n",
       "      <td>15.50</td>\n",
       "      <td>82.0</td>\n",
       "    </tr>\n",
       "    <tr>\n",
       "      <th>11</th>\n",
       "      <td>Rajab</td>\n",
       "      <td>13.75</td>\n",
       "      <td>62.0</td>\n",
       "    </tr>\n",
       "    <tr>\n",
       "      <th>12</th>\n",
       "      <td>Naiyana</td>\n",
       "      <td>9.00</td>\n",
       "      <td>37.0</td>\n",
       "    </tr>\n",
       "    <tr>\n",
       "      <th>13</th>\n",
       "      <td>Kian</td>\n",
       "      <td>8.00</td>\n",
       "      <td>15.0</td>\n",
       "    </tr>\n",
       "    <tr>\n",
       "      <th>14</th>\n",
       "      <td>Jenny</td>\n",
       "      <td>15.50</td>\n",
       "      <td>70.0</td>\n",
       "    </tr>\n",
       "    <tr>\n",
       "      <th>15</th>\n",
       "      <td>Jakeem</td>\n",
       "      <td>8.00</td>\n",
       "      <td>27.0</td>\n",
       "    </tr>\n",
       "    <tr>\n",
       "      <th>16</th>\n",
       "      <td>Helena</td>\n",
       "      <td>9.00</td>\n",
       "      <td>36.0</td>\n",
       "    </tr>\n",
       "    <tr>\n",
       "      <th>17</th>\n",
       "      <td>Ismat</td>\n",
       "      <td>6.00</td>\n",
       "      <td>35.0</td>\n",
       "    </tr>\n",
       "    <tr>\n",
       "      <th>18</th>\n",
       "      <td>Anila</td>\n",
       "      <td>10.00</td>\n",
       "      <td>48.0</td>\n",
       "    </tr>\n",
       "    <tr>\n",
       "      <th>19</th>\n",
       "      <td>Skye</td>\n",
       "      <td>12.00</td>\n",
       "      <td>52.0</td>\n",
       "    </tr>\n",
       "    <tr>\n",
       "      <th>20</th>\n",
       "      <td>Daniel</td>\n",
       "      <td>12.50</td>\n",
       "      <td>63.0</td>\n",
       "    </tr>\n",
       "    <tr>\n",
       "      <th>21</th>\n",
       "      <td>Aisha</td>\n",
       "      <td>12.00</td>\n",
       "      <td>64.0</td>\n",
       "    </tr>\n",
       "  </tbody>\n",
       "</table>\n",
       "</div>"
      ],
      "text/plain": [
       "         Nome  Horasestudos  Notas\n",
       "0         Dan         10.00   50.0\n",
       "1       Joann         11.50   50.0\n",
       "2       Pedro          9.00   47.0\n",
       "3       Rosie         16.00   97.0\n",
       "4       Ethan          9.25   49.0\n",
       "5       Vicky          1.00    3.0\n",
       "6    Frederic         11.50   53.0\n",
       "7      Jimmie          9.00   42.0\n",
       "8      Rhonda          8.50   26.0\n",
       "9    Giovanni         14.50   74.0\n",
       "10  Francesca         15.50   82.0\n",
       "11      Rajab         13.75   62.0\n",
       "12    Naiyana          9.00   37.0\n",
       "13       Kian          8.00   15.0\n",
       "14      Jenny         15.50   70.0\n",
       "15     Jakeem          8.00   27.0\n",
       "16     Helena          9.00   36.0\n",
       "17      Ismat          6.00   35.0\n",
       "18      Anila         10.00   48.0\n",
       "19       Skye         12.00   52.0\n",
       "20     Daniel         12.50   63.0\n",
       "21      Aisha         12.00   64.0"
      ]
     },
     "metadata": {},
     "output_type": "display_data"
    }
   ],
   "source": [
    "import pandas as pd\n",
    "import  numpy as np\n",
    "from matplotlib import pyplot as plt\n",
    "\n",
    "dados = [50,50,47,97,49,3,53,42,26,74,82,62,37,15,70,27,36,35,48,52,63,64]\n",
    "notas = np.array(dados)\n",
    "\n",
    "horas_studo= [10.0,11.5,9.0,16.0,9.25,1.0,11.5,9.0,8.5,14.5,15.5,\n",
    "               13.75,9.0,8.0,15.5,8.0,9.0,6.0,10.0,12.0,12.5,12.0]\n",
    "\n",
    "dados_estudante = np.array([horas_studo, notas])\n",
    "\n",
    "df_estudantes = pd.DataFrame({'Nome': ['Dan', 'Joann', 'Pedro', 'Rosie', 'Ethan', 'Vicky', 'Frederic', 'Jimmie', \n",
    "                                     'Rhonda', 'Giovanni', 'Francesca', 'Rajab', 'Naiyana', 'Kian', 'Jenny',\n",
    "                                     'Jakeem','Helena','Ismat','Anila','Skye','Daniel','Aisha'],\n",
    "                            'Horasestudos':dados_estudante[0],\n",
    "                            'Notas':dados_estudante[1]})\n",
    "\n",
    "display(df_estudantes)"
   ]
  },
  {
   "cell_type": "code",
   "execution_count": 18,
   "metadata": {},
   "outputs": [
    {
     "name": "stdout",
     "output_type": "stream",
     "text": [
      "         Nome  Horasestudos  Notas  Passou\n",
      "0         Dan         10.00   50.0   False\n",
      "1       Joann         11.50   50.0   False\n",
      "2       Pedro          9.00   47.0   False\n",
      "3       Rosie         16.00   97.0    True\n",
      "4       Ethan          9.25   49.0   False\n",
      "5       Vicky          1.00    3.0   False\n",
      "6    Frederic         11.50   53.0   False\n",
      "7      Jimmie          9.00   42.0   False\n",
      "8      Rhonda          8.50   26.0   False\n",
      "9    Giovanni         14.50   74.0    True\n",
      "10  Francesca         15.50   82.0    True\n",
      "11      Rajab         13.75   62.0    True\n",
      "12    Naiyana          9.00   37.0   False\n",
      "13       Kian          8.00   15.0   False\n",
      "14      Jenny         15.50   70.0    True\n",
      "15     Jakeem          8.00   27.0   False\n",
      "16     Helena          9.00   36.0   False\n",
      "17      Ismat          6.00   35.0   False\n",
      "18      Anila         10.00   48.0   False\n",
      "19       Skye         12.00   52.0   False\n",
      "20     Daniel         12.50   63.0    True\n",
      "21      Aisha         12.00   64.0    True\n",
      "Minimum:3.00\n",
      "Mean:97.00\n",
      "Median:49.18\n",
      "Mode:49.50\n",
      "Maximum:50.00\n",
      "\n"
     ]
    },
    {
     "name": "stderr",
     "output_type": "stream",
     "text": [
      "C:\\Users\\mlima17\\AppData\\Local\\Temp\\ipykernel_18936\\230582571.py:35: UserWarning: Matplotlib is currently using module://matplotlib_inline.backend_inline, which is a non-GUI backend, so cannot show the figure.\n",
      "  fig.show()\n"
     ]
    },
    {
     "data": {
      "image/png": "[encoded data removed]",
      "text/plain": [
       "<Figure size 720x288 with 2 Axes>"
      ]
     },
     "metadata": {
      "needs_background": "light"
     },
     "output_type": "display_data"
    }
   ],
   "source": [
    "# ANALISE DOS DADOS\n",
    "\n",
    "#calculo para quem passou com nota azima de 60\n",
    "passar = pd.Series(df_estudantes['Notas'] >= 60)\n",
    "df_estudantes = pd.concat([df_estudantes, passar.rename('Passou')], axis=1)\n",
    "print(df_estudantes)\n",
    "\n",
    "#função para fazer a distribuição (gráfica) e mostra-la\n",
    "def show_distribuition(var_data):\n",
    "    min_val = var_data.min() #menor valor\n",
    "    max_val = var_data.max() #max valor\n",
    "    mean_val = var_data.mean()  #media\n",
    "    med_val = var_data.median()  #mediana\n",
    "    mod_val = var_data.mode()[0]  #moda\n",
    "\n",
    "    print('Minimum:{:.2f}\\nMean:{:.2f}\\nMedian:{:.2f}\\nMode:{:.2f}\\nMaximum:{:.2f}\\n'.format(min_val, max_val, mean_val, med_val, mod_val))\n",
    "\n",
    "    #GRAFICOS\n",
    "    fig, ax = plt.subplots(2,1, figsize = (10,4))\n",
    "\n",
    "    #histograma\n",
    "    ax[0].hist(var_data)\n",
    "    ax[0].set_ylabel('Frequencia')\n",
    "\n",
    "    ax[0].axvline(x=min_val, color = 'gray', linestyle='dashed', linewidth = 2)\n",
    "    ax[0].axvline(x=mean_val, color = 'cyan', linestyle='dashed', linewidth = 2)\n",
    "    ax[0].axvline(x=med_val, color = 'red', linestyle='dashed', linewidth = 2)\n",
    "    ax[0].axvline(x=mod_val, color = 'yellow', linestyle='dashed', linewidth = 2)\n",
    "    ax[0].axvline(x=max_val, color = 'gray', linestyle='dashed', linewidth = 2)\n",
    "\n",
    "    #boxplot\n",
    "    ax[1].boxplot(var_data, vert=False)\n",
    "    ax[1].set_xlabel('Value')\n",
    "    \n",
    "    fig.show()\n",
    "\n",
    "show_distribuition(df_estudantes['Notas'])"
   ]
  },
  {
   "cell_type": "code",
   "execution_count": 19,
   "metadata": {},
   "outputs": [
    {
     "name": "stdout",
     "output_type": "stream",
     "text": [
      "Minimum:1.00\n",
      "Mean:16.00\n",
      "Median:10.52\n",
      "Mode:10.00\n",
      "Maximum:9.00\n",
      "\n"
     ]
    },
    {
     "name": "stderr",
     "output_type": "stream",
     "text": [
      "C:\\Users\\mlima17\\AppData\\Local\\Temp\\ipykernel_18936\\230582571.py:35: UserWarning: Matplotlib is currently using module://matplotlib_inline.backend_inline, which is a non-GUI backend, so cannot show the figure.\n",
      "  fig.show()\n"
     ]
    },
    {
     "data": {
      "image/png": "[encoded data removed]",
      "text/plain": [
       "<Figure size 720x288 with 2 Axes>"
      ]
     },
     "metadata": {
      "needs_background": "light"
     },
     "output_type": "display_data"
    }
   ],
   "source": [
    "#analisando a distribuiçao de horas de estudo\n",
    "col = df_estudantes['Horasestudos']\n",
    "show_distribuition(col)\n",
    "\n",
    "#maior quantidade de valor esta acima de 6\n",
    "#menor valor começa com um o, que esta fora do intervalo de distribuiçao"
   ]
  },
  {
   "cell_type": "code",
   "execution_count": 20,
   "metadata": {},
   "outputs": [
    {
     "name": "stdout",
     "output_type": "stream",
     "text": [
      "Minimum:6.00\n",
      "Mean:16.00\n",
      "Median:10.98\n",
      "Mode:10.00\n",
      "Maximum:9.00\n",
      "\n"
     ]
    },
    {
     "name": "stderr",
     "output_type": "stream",
     "text": [
      "C:\\Users\\mlima17\\AppData\\Local\\Temp\\ipykernel_18936\\230582571.py:35: UserWarning: Matplotlib is currently using module://matplotlib_inline.backend_inline, which is a non-GUI backend, so cannot show the figure.\n",
      "  fig.show()\n"
     ]
    },
    {
     "data": {
      "image/png": "[encoded data removed]",
      "text/plain": [
       "<Figure size 720x288 with 2 Axes>"
      ]
     },
     "metadata": {
      "needs_background": "light"
     },
     "output_type": "display_data"
    }
   ],
   "source": [
    "#removendo os outliers do gráfico\n",
    "#outlier removido o boxplot mostra os dados dentro dos quartis\n",
    "q01 = df_estudantes.Horasestudos.quantile(0.01)\n",
    "col = df_estudantes[df_estudantes.Horasestudos>q01]['Horasestudos']\n",
    "show_distribuition(col)"
   ]
  },
  {
   "cell_type": "code",
   "execution_count": 33,
   "metadata": {},
   "outputs": [
    {
     "name": "stdout",
     "output_type": "stream",
     "text": [
      "\n",
      "Notas:\n",
      " - Variaçao: 94.00\n",
      " - Variancia: 472.54\n",
      " - Desvio: 21.74\n",
      "\n",
      "Horasestudos:\n",
      " - Variaçao: 15.00\n",
      " - Variancia: 12.16\n",
      " - Desvio: 3.49\n"
     ]
    }
   ],
   "source": [
    "#Range = variaçao entre minimo e maximo\n",
    "#Variancia = media da diferença quadrada da media\n",
    "#Desvio padrao \n",
    "\n",
    "for col_name in ['Notas', 'Horasestudos']:\n",
    "    col = df_estudantes[col_name]\n",
    "    rng = col.max() - col.min()\n",
    "    var = col.var()\n",
    "    std = col.std()\n",
    "    \n",
    "    print('\\n{}:\\n - Variaçao: {:.2f}\\n - Variancia: {:.2f}\\n - Desvio: {:.2f}'.format(col_name, rng, var, std))\n"
   ]
  },
  {
   "cell_type": "code",
   "execution_count": 34,
   "metadata": {},
   "outputs": [
    {
     "data": {
      "text/html": [
       "<div>\n",
       "<style scoped>\n",
       "    .dataframe tbody tr th:only-of-type {\n",
       "        vertical-align: middle;\n",
       "    }\n",
       "\n",
       "    .dataframe tbody tr th {\n",
       "        vertical-align: top;\n",
       "    }\n",
       "\n",
       "    .dataframe thead th {\n",
       "        text-align: right;\n",
       "    }\n",
       "</style>\n",
       "<table border=\"1\" class=\"dataframe\">\n",
       "  <thead>\n",
       "    <tr style=\"text-align: right;\">\n",
       "      <th></th>\n",
       "      <th>Horasestudos</th>\n",
       "      <th>Notas</th>\n",
       "    </tr>\n",
       "  </thead>\n",
       "  <tbody>\n",
       "    <tr>\n",
       "      <th>count</th>\n",
       "      <td>22.000000</td>\n",
       "      <td>22.000000</td>\n",
       "    </tr>\n",
       "    <tr>\n",
       "      <th>mean</th>\n",
       "      <td>10.522727</td>\n",
       "      <td>49.181818</td>\n",
       "    </tr>\n",
       "    <tr>\n",
       "      <th>std</th>\n",
       "      <td>3.487144</td>\n",
       "      <td>21.737912</td>\n",
       "    </tr>\n",
       "    <tr>\n",
       "      <th>min</th>\n",
       "      <td>1.000000</td>\n",
       "      <td>3.000000</td>\n",
       "    </tr>\n",
       "    <tr>\n",
       "      <th>25%</th>\n",
       "      <td>9.000000</td>\n",
       "      <td>36.250000</td>\n",
       "    </tr>\n",
       "    <tr>\n",
       "      <th>50%</th>\n",
       "      <td>10.000000</td>\n",
       "      <td>49.500000</td>\n",
       "    </tr>\n",
       "    <tr>\n",
       "      <th>75%</th>\n",
       "      <td>12.375000</td>\n",
       "      <td>62.750000</td>\n",
       "    </tr>\n",
       "    <tr>\n",
       "      <th>max</th>\n",
       "      <td>16.000000</td>\n",
       "      <td>97.000000</td>\n",
       "    </tr>\n",
       "  </tbody>\n",
       "</table>\n",
       "</div>"
      ],
      "text/plain": [
       "       Horasestudos      Notas\n",
       "count     22.000000  22.000000\n",
       "mean      10.522727  49.181818\n",
       "std        3.487144  21.737912\n",
       "min        1.000000   3.000000\n",
       "25%        9.000000  36.250000\n",
       "50%       10.000000  49.500000\n",
       "75%       12.375000  62.750000\n",
       "max       16.000000  97.000000"
      ]
     },
     "execution_count": 34,
     "metadata": {},
     "output_type": "execute_result"
    }
   ],
   "source": [
    "df_estudantes.describe()"
   ]
  },
  {
   "cell_type": "markdown",
   "metadata": {},
   "source": [
    "COMPARANDO VARIAVEIS NUMERICAS E CATEGORICAS"
   ]
  },
  {
   "cell_type": "code",
   "execution_count": 38,
   "metadata": {},
   "outputs": [
    {
     "data": {
      "text/plain": [
       "<AxesSubplot:title={'center':'Horasestudos'}, xlabel='Passou'>"
      ]
     },
     "execution_count": 38,
     "metadata": {},
     "output_type": "execute_result"
    },
    {
     "data": {
      "image/png": "[encoded data removed]",
      "text/plain": [
       "<Figure size 576x360 with 1 Axes>"
      ]
     },
     "metadata": {
      "needs_background": "light"
     },
     "output_type": "display_data"
    }
   ],
   "source": [
    "#comparando dados\n",
    "df_sample = df_estudantes[df_estudantes['Horasestudos']>1]\n",
    "df_sample\n",
    "df_sample.boxplot(column='Horasestudos', by='Passou', figsize=(8,5))"
   ]
  },
  {
   "cell_type": "markdown",
   "metadata": {},
   "source": [
    "COMPARANDO VARIAVEIS NUMERICAS"
   ]
  },
  {
   "cell_type": "code",
   "execution_count": 39,
   "metadata": {},
   "outputs": [
    {
     "data": {
      "text/plain": [
       "<AxesSubplot:xlabel='Nome'>"
      ]
     },
     "execution_count": 39,
     "metadata": {},
     "output_type": "execute_result"
    },
    {
     "data": {
      "image/png": "[encoded data removed]",
      "text/plain": [
       "<Figure size 576x360 with 1 Axes>"
      ]
     },
     "metadata": {
      "needs_background": "light"
     },
     "output_type": "display_data"
    }
   ],
   "source": [
    "#grafico de barras de nome vs notas e horas de estudos\n",
    "df_sample.plot(x='Nome', y=['Notas', 'Horasestudos'], kind = 'bar', figsize = (8,5))"
   ]
  },
  {
   "cell_type": "code",
   "execution_count": 41,
   "metadata": {},
   "outputs": [
    {
     "data": {
      "text/plain": [
       "<AxesSubplot:title={'center':'Horas estudos vs Nota'}, xlabel='Horasestudos', ylabel='Notas'>"
      ]
     },
     "execution_count": 41,
     "metadata": {},
     "output_type": "execute_result"
    },
    {
     "data": {
      "image/png": "[encoded data removed]",
      "text/plain": [
       "<Figure size 432x288 with 1 Axes>"
      ]
     },
     "metadata": {
      "needs_background": "light"
     },
     "output_type": "display_data"
    }
   ],
   "source": [
    "#grafico de dispercao\n",
    "df_sample.plot.scatter(title ='Horas estudos vs Nota', x = 'Horasestudos', y = 'Notas')"
   ]
  }
 ],
 "metadata": {
  "interpreter": {
   "hash": "d3e10ef16274dd72e574b8fa73b58450b957d8421a2901baded3cca26fcf5dda"
  },
  "kernelspec": {
   "display_name": "Python 3.10.0 64-bit (system)",
   "language": "python",
   "name": "python3"
  },
  "language_info": {
   "codemirror_mode": {
    "name": "ipython",
    "version": 3
   },
   "file_extension": ".py",
   "mimetype": "text/x-python",
   "name": "python",
   "nbconvert_exporter": "python",
   "pygments_lexer": "ipython3",
   "version": "3.10.0"
  },
  "orig_nbformat": 4
 },
 "nbformat": 4,
 "nbformat_minor": 2
}
